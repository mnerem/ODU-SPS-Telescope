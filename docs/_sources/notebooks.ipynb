{
 "cells": [
  {
   "cell_type": "markdown",
   "metadata": {},
   "source": [
    "# Jupyter Data Analysis\n",
    "\n",
    "You can use Jupyter Notebooks to perform data analysis and create written content to communicate your work. This means that you can include code blocks and their outputs in your book.\n",
    "\n",
    "The following is a sample of what can be done with Jupyter.\n",
    "This is a powerful tool that we can use to write up reports **and** analyze the data collected from our observations. This tool also allows for collaboration with anyone regardless of their location.\n",
    "\n",
    "## Markdown + notebooks\n",
    "\n",
    "Jupyter notebooks can use Markdown (md) formatting for clear communications.\n",
    "\n",
    "Markdown can process LaTeX to generate mathematical formulas\n",
    "```{panels}\n",
    "Raw TeX string\n",
    "^^^\n",
    "    $$\n",
    "        -\\frac{\\hbar^2}{2m}\\vec{\\nabla}\\psi+ \n",
    "        V(\\vec{r}\\,) \\psi \n",
    "        = i\\hbar\n",
    "          \\frac{\\partial\\,\\psi}{\\partial t}\n",
    "    $$\n",
    "---\n",
    "Processed LaTeX\n",
    "^^^\n",
    "$$\n",
    "    -\\frac{\\hbar^2}{2m}\\vec{\\nabla}\\psi + V(\\vec{r}\\,) \\psi = i\\hbar\\frac{\\partial\\,\\psi}{\\partial t}\n",
    "$$\n",
    "```\n",
    "\n",
    "## Code blocks and outputs\n",
    "\n",
    "Jupyter Book will also embed your code blocks and output in your book.\n",
    "For example, here's some sample Matplotlib code:"
   ]
  },
  {
   "cell_type": "code",
   "execution_count": null,
   "metadata": {},
   "outputs": [],
   "source": [
    "from matplotlib import rcParams, cycler\n",
    "import matplotlib.pyplot as plt\n",
    "import numpy as np\n",
    "plt.ion()"
   ]
  },
  {
   "cell_type": "code",
   "execution_count": null,
   "metadata": {},
   "outputs": [],
   "source": [
    "# Fixing random state for reproducibility\n",
    "np.random.seed(19680801)\n",
    "\n",
    "N = 10\n",
    "data = [np.logspace(0, 1, 100) + np.random.randn(100) + ii for ii in range(N)]\n",
    "data = np.array(data).T\n",
    "cmap = plt.cm.coolwarm\n",
    "rcParams['axes.prop_cycle'] = cycler(color=cmap(np.linspace(0, 1, N)))\n",
    "\n",
    "\n",
    "from matplotlib.lines import Line2D\n",
    "custom_lines = [Line2D([0], [0], color=cmap(0.), lw=4),\n",
    "                Line2D([0], [0], color=cmap(.5), lw=4),\n",
    "                Line2D([0], [0], color=cmap(1.), lw=4)]\n",
    "\n",
    "fig, ax = plt.subplots(figsize=(10, 5))\n",
    "lines = ax.plot(data)\n",
    "ax.legend(custom_lines, ['Cold', 'Medium', 'Hot']);"
   ]
  },
  {
   "cell_type": "markdown",
   "metadata": {},
   "source": [
    "There is a lot more that you can do with outputs (such as including interactive outputs)\n",
    "with your book. For more information about this, see [the Jupyter Book documentation](https://jupyterbook.org)"
   ]
  }
 ],
 "metadata": {
  "kernelspec": {
   "display_name": "Python 3",
   "language": "python",
   "name": "python3"
  },
  "language_info": {
   "codemirror_mode": {
    "name": "ipython",
    "version": 3
   },
   "file_extension": ".py",
   "mimetype": "text/x-python",
   "name": "python",
   "nbconvert_exporter": "python",
   "pygments_lexer": "ipython3",
   "version": "3.6.9"
  },
  "widgets": {
   "application/vnd.jupyter.widget-state+json": {
    "state": {},
    "version_major": 2,
    "version_minor": 0
   }
  }
 },
 "nbformat": 4,
 "nbformat_minor": 4
}
